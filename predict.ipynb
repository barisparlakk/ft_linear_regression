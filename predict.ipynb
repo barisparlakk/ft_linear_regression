{
 "cells": [
  {
   "metadata": {
    "ExecuteTime": {
     "end_time": "2025-01-11T12:37:53.759403Z",
     "start_time": "2025-01-11T12:37:52.931249Z"
    }
   },
   "cell_type": "code",
   "source": [
    "#importing required libraries\n",
    "from util import *\n",
    "from reprint import output\n",
    "import matplotlib.pyplot as plt\n",
    "import argparse\n",
    "import imageio\n",
    "import signal\n",
    "import os\n"
   ],
   "id": "1202db08cd68fd1b",
   "outputs": [],
   "execution_count": 1
  },
  {
   "metadata": {
    "ExecuteTime": {
     "end_time": "2025-01-11T12:38:52.241030Z",
     "start_time": "2025-01-11T12:38:52.234193Z"
    }
   },
   "cell_type": "code",
   "source": [
    "def error_exit(string):\n",
    "\t\"\"\"\n",
    "\tPrint + quit\n",
    "\t\"\"\"\n",
    "\tprint(string)\n",
    "\tsys.exit(0)\n",
    "\n",
    "\n",
    "def file_check(file):\n",
    "\t\"\"\"\n",
    "\tChecking if file is correct\n",
    "\t\"\"\"\n",
    "\ttry:\n",
    "\t\twith open(file, 'r') as f:\n",
    "\t\t\tfl = f.readlines()\n",
    "\t\t\tfor l in fl[1:]:\n",
    "\t\t\t\tL = l[:-1].split(',')\n",
    "\t\t\t\tif not L[0].isnumeric() or not L[1].isnumeric():\n",
    "\t\t\t\t\treturn 0\n",
    "\t\t\treturn 1\n",
    "\texcept:\n",
    "\t\terror_exit('No data')\n",
    "\n",
    "def check_number(f, n):\n",
    "\t\"\"\"\n",
    "\tCheck if number is correct\n",
    "\t\"\"\"\n",
    "\ttry:\n",
    "\t\tn = f(n)\n",
    "\texcept:\n",
    "\t\terror_exit(\"Value error\")\n",
    "\treturn n\n"
   ],
   "id": "2e28d1e06a6ab06a",
   "outputs": [],
   "execution_count": 3
  },
  {
   "metadata": {
    "ExecuteTime": {
     "end_time": "2025-01-11T12:45:58.281375Z",
     "start_time": "2025-01-11T12:45:58.253717Z"
    }
   },
   "cell_type": "code",
   "source": [
    "if __name__ == '__main__':\n",
    "\t# Arguments\n",
    "\tparser = argparse.ArgumentParser()\n",
    "\tparser.add_argument('mileage', type=int, help='mileage to predict')\n",
    "\tparser.add_argument('file', type=str, help='text file for input', default=None)\n",
    "\tparser.add_argument('-sc', '--scatter', help='data scatter plot', type=str)\n",
    "\targs = parser.parse_args()\n",
    "\t# Check if theta is here\n",
    "\ttry:\n",
    "\t\twith open(args.file, 'r') as f:\n",
    "\t\t\tif f.mode == 'r':\n",
    "\t\t\t\ttheta = []\n",
    "\t\t\t\tfl = f.readlines()\n",
    "\t\t\t\tfor x in fl:\n",
    "\t\t\t\t\ttheta.append(check_number(float, x.split(':')[1]))\n",
    "\texcept:\n",
    "\t\ttheta = [0, 0]\n",
    "\tprint('Theta0: ', theta[0])\n",
    "\tprint('Theta1: ', theta[1])\n",
    "\n",
    "\t# Mileage price calculation\n",
    "\td = args.mileage\n",
    "\td = check_number(float, d)\n",
    "\tp = theta[0] + theta[1] * d\n",
    "\tprint('The price of this care is :', p, 'euros')\n",
    "\n",
    "\t# Check if scatter argument is here\n",
    "\tif args.scatter:\n",
    "\t\tif not file_check(args.scatter):\n",
    "\t\t\terror_exit('Bad File Format')\n",
    "\t\tdf = pd.read_csv(args.scatter)\n",
    "\t\tkm = df.columns[0]\n",
    "\t\tprice = df.columns[1]\n",
    "\t\tplt.scatter(df[km], df[price])\n",
    "\t\tX, Y = df[km], df[price]\n",
    "\telse:\n",
    "\t\tX = np.linspace(0, 250000, num=25)\n",
    "\t\tprice = None\n",
    "\t\tkm = None\n",
    "\n",
    "\t# Plotting\n",
    "\tplt.plot(d, p, '*', markersize=12, color='red')\n",
    "\tif d > max(X):\n",
    "\t\tplt.plot(\n",
    "\t\t\tpd.DataFrame([i for i in range(int(d) + 10000)], columns=['KM']),\n",
    "\t\t\ttheta[0] + theta[1] * pd.DataFrame([i for i in range(int(d) + 10000)], columns=['KM']),\n",
    "\t\t\tcolor='green'\n",
    "\t\t)\n",
    "\telse:\n",
    "\t\tplt.plot(X, theta[0] + theta[1] * X, color='green')\n",
    "\tif price and km:\n",
    "\t\tplt.ylabel(price)\n",
    "\t\tplt.xlabel(km)\n",
    "\t\tplt.title(price + ' = f(' + km + ')')\n",
    "\tplt.savefig('PredictGraph.png')"
   ],
   "id": "44f2e975c815f05d",
   "outputs": [
    {
     "name": "stderr",
     "output_type": "stream",
     "text": [
      "usage: ipykernel_launcher.py [-h] [-sc SCATTER] mileage file\n",
      "ipykernel_launcher.py: error: argument mileage: invalid int value: '/home/baris/.local/share/jupyter/runtime/kernel-a7ec6b63-a3f1-40f5-a7f5-0c6ad7584994.json'\n"
     ]
    },
    {
     "ename": "SystemExit",
     "evalue": "2",
     "output_type": "error",
     "traceback": [
      "An exception has occurred, use %tb to see the full traceback.\n",
      "\u001B[0;31mSystemExit\u001B[0m\u001B[0;31m:\u001B[0m 2\n"
     ]
    },
    {
     "name": "stderr",
     "output_type": "stream",
     "text": [
      "/home/baris/.local/lib/python3.12/site-packages/IPython/core/interactiveshell.py:3585: UserWarning: To exit: use 'exit', 'quit', or Ctrl-D.\n",
      "  warn(\"To exit: use 'exit', 'quit', or Ctrl-D.\", stacklevel=1)\n"
     ]
    }
   ],
   "execution_count": 4
  },
  {
   "metadata": {},
   "cell_type": "code",
   "outputs": [],
   "execution_count": null,
   "source": "",
   "id": "9d8eb4b5d69563ea"
  }
 ],
 "metadata": {
  "kernelspec": {
   "name": "python3",
   "language": "python",
   "display_name": "Python 3 (ipykernel)"
  }
 },
 "nbformat": 5,
 "nbformat_minor": 9
}
